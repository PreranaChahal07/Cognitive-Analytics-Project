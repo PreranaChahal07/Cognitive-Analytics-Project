{
 "cells": [
  {
   "cell_type": "code",
   "execution_count": 1,
   "metadata": {},
   "outputs": [
    {
     "name": "stderr",
     "output_type": "stream",
     "text": [
      "<>:9: SyntaxWarning: invalid escape sequence '\\T'\n",
      "<>:10: SyntaxWarning: invalid escape sequence '\\F'\n",
      "<>:9: SyntaxWarning: invalid escape sequence '\\T'\n",
      "<>:10: SyntaxWarning: invalid escape sequence '\\F'\n",
      "C:\\Users\\91830\\AppData\\Local\\Temp\\ipykernel_7076\\4101972206.py:9: SyntaxWarning: invalid escape sequence '\\T'\n",
      "  true_news = pd.read_csv('data\\True.csv').head(1000)\n",
      "C:\\Users\\91830\\AppData\\Local\\Temp\\ipykernel_7076\\4101972206.py:10: SyntaxWarning: invalid escape sequence '\\F'\n",
      "  fake_news = pd.read_csv('data\\Fake.csv').head(1000)\n"
     ]
    },
    {
     "name": "stdout",
     "output_type": "stream",
     "text": [
      "Accuracy of the Voting Classifier: 99.20%\n"
     ]
    }
   ],
   "source": [
    "import pandas as pd\n",
    "from sklearn.feature_extraction.text import TfidfVectorizer\n",
    "from sklearn.model_selection import train_test_split\n",
    "from sklearn.linear_model import LogisticRegression\n",
    "from sklearn.ensemble import RandomForestClassifier, VotingClassifier\n",
    "from sklearn.svm import SVC\n",
    "from sklearn.metrics import accuracy_score\n",
    "\n",
    "true_news = pd.read_csv('data\\True.csv').head(1000)\n",
    "fake_news = pd.read_csv('data\\Fake.csv').head(1000)\n",
    "\n",
    "true_news['label'] = 'true'\n",
    "fake_news['label'] = 'fake'\n",
    "\n",
    "data = pd.concat([true_news, fake_news], ignore_index=True)\n",
    "\n",
    "X = data['text']\n",
    "y = data['label']\n",
    "\n",
    "X_train, X_test, y_train, y_test = train_test_split(X, y, test_size=0.25, random_state=42)\n",
    "\n",
    "vectorizer = TfidfVectorizer(stop_words='english', max_df=0.7)\n",
    "X_train_tfidf = vectorizer.fit_transform(X_train)\n",
    "X_test_tfidf = vectorizer.transform(X_test)\n",
    "\n",
    "lr_classifier = LogisticRegression(random_state=42)\n",
    "rf_classifier = RandomForestClassifier(n_estimators=100, random_state=42)\n",
    "svm_classifier = SVC(kernel='linear', probability=True, random_state=42)\n",
    "\n",
    "voting_classifier = VotingClassifier(\n",
    "    estimators=[\n",
    "        ('lr', lr_classifier),\n",
    "        ('rf', rf_classifier),\n",
    "        ('svm', svm_classifier)\n",
    "    ],\n",
    "    voting='soft'\n",
    ")\n",
    "\n",
    "voting_classifier.fit(X_train_tfidf, y_train)\n",
    "\n",
    "y_pred = voting_classifier.predict(X_test_tfidf)\n",
    "accuracy = accuracy_score(y_test, y_pred)\n",
    "\n",
    "print(\"Accuracy of the Voting Classifier: {:.2f}%\".format(accuracy * 100))"
   ]
  },
  {
   "cell_type": "code",
   "execution_count": null,
   "metadata": {},
   "outputs": [],
   "source": []
  }
 ],
 "metadata": {
  "kernelspec": {
   "display_name": "Python 3",
   "language": "python",
   "name": "python3"
  },
  "language_info": {
   "codemirror_mode": {
    "name": "ipython",
    "version": 3
   },
   "file_extension": ".py",
   "mimetype": "text/x-python",
   "name": "python",
   "nbconvert_exporter": "python",
   "pygments_lexer": "ipython3",
   "version": "3.12.1"
  }
 },
 "nbformat": 4,
 "nbformat_minor": 2
}
